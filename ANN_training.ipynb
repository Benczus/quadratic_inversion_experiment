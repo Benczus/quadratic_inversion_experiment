{
 "cells": [
  {
   "cell_type": "code",
   "execution_count": 3,
   "metadata": {},
   "outputs": [
    {
     "name": "stdout",
     "output_type": "stream",
     "text": [
      "Requirement already satisfied: keras in /home/bencebogdndy/.local/share/virtualenvs/quadratic_inversion_experiment-UfFMkoi6/lib/python3.8/site-packages (2.8.0)\r\n",
      "Requirement already satisfied: tensorflow in /home/bencebogdndy/.local/share/virtualenvs/quadratic_inversion_experiment-UfFMkoi6/lib/python3.8/site-packages (2.8.0)\r\n",
      "Requirement already satisfied: google-pasta>=0.1.1 in /home/bencebogdndy/.local/share/virtualenvs/quadratic_inversion_experiment-UfFMkoi6/lib/python3.8/site-packages (from tensorflow) (0.2.0)\r\n",
      "Requirement already satisfied: astunparse>=1.6.0 in /home/bencebogdndy/.local/share/virtualenvs/quadratic_inversion_experiment-UfFMkoi6/lib/python3.8/site-packages (from tensorflow) (1.6.3)\r\n",
      "Requirement already satisfied: six>=1.12.0 in /home/bencebogdndy/.local/share/virtualenvs/quadratic_inversion_experiment-UfFMkoi6/lib/python3.8/site-packages (from tensorflow) (1.16.0)\r\n",
      "Requirement already satisfied: gast>=0.2.1 in /home/bencebogdndy/.local/share/virtualenvs/quadratic_inversion_experiment-UfFMkoi6/lib/python3.8/site-packages (from tensorflow) (0.5.3)\r\n",
      "Requirement already satisfied: numpy>=1.20 in /home/bencebogdndy/.local/share/virtualenvs/quadratic_inversion_experiment-UfFMkoi6/lib/python3.8/site-packages (from tensorflow) (1.22.3)\r\n",
      "Requirement already satisfied: h5py>=2.9.0 in /home/bencebogdndy/.local/share/virtualenvs/quadratic_inversion_experiment-UfFMkoi6/lib/python3.8/site-packages (from tensorflow) (3.6.0)\r\n",
      "Requirement already satisfied: tf-estimator-nightly==2.8.0.dev2021122109 in /home/bencebogdndy/.local/share/virtualenvs/quadratic_inversion_experiment-UfFMkoi6/lib/python3.8/site-packages (from tensorflow) (2.8.0.dev2021122109)\r\n",
      "Requirement already satisfied: protobuf>=3.9.2 in /home/bencebogdndy/.local/share/virtualenvs/quadratic_inversion_experiment-UfFMkoi6/lib/python3.8/site-packages (from tensorflow) (3.20.1)\r\n",
      "Requirement already satisfied: termcolor>=1.1.0 in /home/bencebogdndy/.local/share/virtualenvs/quadratic_inversion_experiment-UfFMkoi6/lib/python3.8/site-packages (from tensorflow) (1.1.0)\r\n",
      "Requirement already satisfied: keras-preprocessing>=1.1.1 in /home/bencebogdndy/.local/share/virtualenvs/quadratic_inversion_experiment-UfFMkoi6/lib/python3.8/site-packages (from tensorflow) (1.1.2)\r\n",
      "Requirement already satisfied: tensorboard<2.9,>=2.8 in /home/bencebogdndy/.local/share/virtualenvs/quadratic_inversion_experiment-UfFMkoi6/lib/python3.8/site-packages (from tensorflow) (2.8.0)\r\n",
      "Requirement already satisfied: grpcio<2.0,>=1.24.3 in /home/bencebogdndy/.local/share/virtualenvs/quadratic_inversion_experiment-UfFMkoi6/lib/python3.8/site-packages (from tensorflow) (1.46.1)\r\n",
      "Requirement already satisfied: wrapt>=1.11.0 in /home/bencebogdndy/.local/share/virtualenvs/quadratic_inversion_experiment-UfFMkoi6/lib/python3.8/site-packages (from tensorflow) (1.14.1)\r\n",
      "Requirement already satisfied: typing-extensions>=3.6.6 in /home/bencebogdndy/.local/share/virtualenvs/quadratic_inversion_experiment-UfFMkoi6/lib/python3.8/site-packages (from tensorflow) (4.2.0)\r\n",
      "Requirement already satisfied: setuptools in /home/bencebogdndy/.local/share/virtualenvs/quadratic_inversion_experiment-UfFMkoi6/lib/python3.8/site-packages (from tensorflow) (62.2.0)\r\n",
      "Requirement already satisfied: absl-py>=0.4.0 in /home/bencebogdndy/.local/share/virtualenvs/quadratic_inversion_experiment-UfFMkoi6/lib/python3.8/site-packages (from tensorflow) (1.0.0)\r\n",
      "Requirement already satisfied: flatbuffers>=1.12 in /home/bencebogdndy/.local/share/virtualenvs/quadratic_inversion_experiment-UfFMkoi6/lib/python3.8/site-packages (from tensorflow) (2.0)\r\n",
      "Requirement already satisfied: libclang>=9.0.1 in /home/bencebogdndy/.local/share/virtualenvs/quadratic_inversion_experiment-UfFMkoi6/lib/python3.8/site-packages (from tensorflow) (14.0.1)\r\n",
      "Requirement already satisfied: tensorflow-io-gcs-filesystem>=0.23.1 in /home/bencebogdndy/.local/share/virtualenvs/quadratic_inversion_experiment-UfFMkoi6/lib/python3.8/site-packages (from tensorflow) (0.25.0)\r\n",
      "Requirement already satisfied: opt-einsum>=2.3.2 in /home/bencebogdndy/.local/share/virtualenvs/quadratic_inversion_experiment-UfFMkoi6/lib/python3.8/site-packages (from tensorflow) (3.3.0)\r\n",
      "Requirement already satisfied: wheel<1.0,>=0.23.0 in /home/bencebogdndy/.local/share/virtualenvs/quadratic_inversion_experiment-UfFMkoi6/lib/python3.8/site-packages (from astunparse>=1.6.0->tensorflow) (0.37.1)\r\n",
      "Requirement already satisfied: werkzeug>=0.11.15 in /home/bencebogdndy/.local/share/virtualenvs/quadratic_inversion_experiment-UfFMkoi6/lib/python3.8/site-packages (from tensorboard<2.9,>=2.8->tensorflow) (2.1.2)\r\n",
      "Requirement already satisfied: markdown>=2.6.8 in /home/bencebogdndy/.local/share/virtualenvs/quadratic_inversion_experiment-UfFMkoi6/lib/python3.8/site-packages (from tensorboard<2.9,>=2.8->tensorflow) (3.3.7)\r\n",
      "Requirement already satisfied: requests<3,>=2.21.0 in /home/bencebogdndy/.local/share/virtualenvs/quadratic_inversion_experiment-UfFMkoi6/lib/python3.8/site-packages (from tensorboard<2.9,>=2.8->tensorflow) (2.27.1)\r\n",
      "Requirement already satisfied: google-auth-oauthlib<0.5,>=0.4.1 in /home/bencebogdndy/.local/share/virtualenvs/quadratic_inversion_experiment-UfFMkoi6/lib/python3.8/site-packages (from tensorboard<2.9,>=2.8->tensorflow) (0.4.6)\r\n",
      "Requirement already satisfied: google-auth<3,>=1.6.3 in /home/bencebogdndy/.local/share/virtualenvs/quadratic_inversion_experiment-UfFMkoi6/lib/python3.8/site-packages (from tensorboard<2.9,>=2.8->tensorflow) (2.6.6)\r\n",
      "Requirement already satisfied: tensorboard-plugin-wit>=1.6.0 in /home/bencebogdndy/.local/share/virtualenvs/quadratic_inversion_experiment-UfFMkoi6/lib/python3.8/site-packages (from tensorboard<2.9,>=2.8->tensorflow) (1.8.1)\r\n",
      "Requirement already satisfied: tensorboard-data-server<0.7.0,>=0.6.0 in /home/bencebogdndy/.local/share/virtualenvs/quadratic_inversion_experiment-UfFMkoi6/lib/python3.8/site-packages (from tensorboard<2.9,>=2.8->tensorflow) (0.6.1)\r\n",
      "Requirement already satisfied: rsa<5,>=3.1.4 in /home/bencebogdndy/.local/share/virtualenvs/quadratic_inversion_experiment-UfFMkoi6/lib/python3.8/site-packages (from google-auth<3,>=1.6.3->tensorboard<2.9,>=2.8->tensorflow) (4.8)\r\n",
      "Requirement already satisfied: cachetools<6.0,>=2.0.0 in /home/bencebogdndy/.local/share/virtualenvs/quadratic_inversion_experiment-UfFMkoi6/lib/python3.8/site-packages (from google-auth<3,>=1.6.3->tensorboard<2.9,>=2.8->tensorflow) (5.0.0)\r\n",
      "Requirement already satisfied: pyasn1-modules>=0.2.1 in /home/bencebogdndy/.local/share/virtualenvs/quadratic_inversion_experiment-UfFMkoi6/lib/python3.8/site-packages (from google-auth<3,>=1.6.3->tensorboard<2.9,>=2.8->tensorflow) (0.2.8)\r\n",
      "Requirement already satisfied: requests-oauthlib>=0.7.0 in /home/bencebogdndy/.local/share/virtualenvs/quadratic_inversion_experiment-UfFMkoi6/lib/python3.8/site-packages (from google-auth-oauthlib<0.5,>=0.4.1->tensorboard<2.9,>=2.8->tensorflow) (1.3.1)\r\n",
      "Requirement already satisfied: importlib-metadata>=4.4 in /home/bencebogdndy/.local/share/virtualenvs/quadratic_inversion_experiment-UfFMkoi6/lib/python3.8/site-packages (from markdown>=2.6.8->tensorboard<2.9,>=2.8->tensorflow) (4.11.3)\r\n",
      "Requirement already satisfied: urllib3<1.27,>=1.21.1 in /home/bencebogdndy/.local/share/virtualenvs/quadratic_inversion_experiment-UfFMkoi6/lib/python3.8/site-packages (from requests<3,>=2.21.0->tensorboard<2.9,>=2.8->tensorflow) (1.26.9)\r\n",
      "Requirement already satisfied: certifi>=2017.4.17 in /home/bencebogdndy/.local/share/virtualenvs/quadratic_inversion_experiment-UfFMkoi6/lib/python3.8/site-packages (from requests<3,>=2.21.0->tensorboard<2.9,>=2.8->tensorflow) (2021.10.8)\r\n",
      "Requirement already satisfied: charset-normalizer~=2.0.0 in /home/bencebogdndy/.local/share/virtualenvs/quadratic_inversion_experiment-UfFMkoi6/lib/python3.8/site-packages (from requests<3,>=2.21.0->tensorboard<2.9,>=2.8->tensorflow) (2.0.12)\r\n",
      "Requirement already satisfied: idna<4,>=2.5 in /home/bencebogdndy/.local/share/virtualenvs/quadratic_inversion_experiment-UfFMkoi6/lib/python3.8/site-packages (from requests<3,>=2.21.0->tensorboard<2.9,>=2.8->tensorflow) (3.3)\r\n",
      "Requirement already satisfied: zipp>=0.5 in /home/bencebogdndy/.local/share/virtualenvs/quadratic_inversion_experiment-UfFMkoi6/lib/python3.8/site-packages (from importlib-metadata>=4.4->markdown>=2.6.8->tensorboard<2.9,>=2.8->tensorflow) (3.8.0)\r\n",
      "Requirement already satisfied: pyasn1<0.5.0,>=0.4.6 in /home/bencebogdndy/.local/share/virtualenvs/quadratic_inversion_experiment-UfFMkoi6/lib/python3.8/site-packages (from pyasn1-modules>=0.2.1->google-auth<3,>=1.6.3->tensorboard<2.9,>=2.8->tensorflow) (0.4.8)\r\n",
      "Requirement already satisfied: oauthlib>=3.0.0 in /home/bencebogdndy/.local/share/virtualenvs/quadratic_inversion_experiment-UfFMkoi6/lib/python3.8/site-packages (from requests-oauthlib>=0.7.0->google-auth-oauthlib<0.5,>=0.4.1->tensorboard<2.9,>=2.8->tensorflow) (3.2.0)\r\n",
      "\u001B[33mWARNING: You are using pip version 22.0.4; however, version 22.1 is available.\r\n",
      "You should consider upgrading via the '/home/bencebogdndy/.local/share/virtualenvs/quadratic_inversion_experiment-UfFMkoi6/bin/python -m pip install --upgrade pip' command.\u001B[0m\u001B[33m\r\n",
      "\u001B[0m"
     ]
    }
   ],
   "source": [
    "!pip install keras tensorflow"
   ]
  },
  {
   "cell_type": "code",
   "execution_count": 4,
   "metadata": {},
   "outputs": [],
   "source": [
    "import pandas as pd\n",
    "import tensorflow as tf\n",
    "from tensorflow import keras\n",
    "from tensorflow.keras import layers\n",
    "import numpy as np\n",
    "from sklearn.model_selection import train_test_split\n",
    "\n",
    "df=pd.read_csv(\"data/quadratic_2000\")\n",
    "from tensorflow.python.keras import Input\n",
    "from tensorflow.python.keras.layers import Dense\n",
    "from tensorflow.python.keras import Model"
   ]
  },
  {
   "cell_type": "code",
   "execution_count": null,
   "outputs": [],
   "source": [],
   "metadata": {
    "collapsed": false,
    "pycharm": {
     "name": "#%%\n"
    }
   }
  },
  {
   "cell_type": "code",
   "execution_count": null,
   "outputs": [],
   "source": [],
   "metadata": {
    "collapsed": false,
    "pycharm": {
     "name": "#%%\n"
    }
   }
  },
  {
   "cell_type": "code",
   "execution_count": null,
   "outputs": [],
   "source": [],
   "metadata": {
    "collapsed": false,
    "pycharm": {
     "name": "#%%\n"
    }
   }
  },
  {
   "cell_type": "code",
   "execution_count": 5,
   "metadata": {},
   "outputs": [
    {
     "name": "stdout",
     "output_type": "stream",
     "text": [
      "                 x            y             z\n",
      "count  2000.000000  2000.000000   2000.000000\n",
      "mean      1.482738    -0.801139  27093.876960\n",
      "std      58.277224    57.960332  23815.272886\n",
      "min     -99.789078   -99.933339     17.080362\n",
      "25%     -50.662430   -50.730813   5278.746252\n",
      "50%       3.565033     0.810382  20900.431130\n",
      "75%      53.731596    48.936810  45399.269940\n",
      "max      99.992976    99.873801  80036.812253\n"
     ]
    }
   ],
   "source": [
    "num_of_rows=2000\n",
    "df=pd.read_csv(f'data/quadratic_{num_of_rows}', index_col=0)\n",
    "print(df.describe())"
   ]
  },
  {
   "cell_type": "code",
   "execution_count": 6,
   "metadata": {},
   "outputs": [
    {
     "data": {
      "text/plain": "(2000, 3)"
     },
     "execution_count": 6,
     "metadata": {},
     "output_type": "execute_result"
    }
   ],
   "source": [
    "df.values.shape"
   ]
  },
  {
   "cell_type": "code",
   "execution_count": 7,
   "metadata": {},
   "outputs": [],
   "source": [
    "neuron_config=[100, 200]"
   ]
  },
  {
   "cell_type": "code",
   "execution_count": 8,
   "metadata": {},
   "outputs": [
    {
     "name": "stderr",
     "output_type": "stream",
     "text": [
      "2022-05-14 19:43:37.231939: I tensorflow/stream_executor/cuda/cuda_gpu_executor.cc:936] successful NUMA node read from SysFS had negative value (-1), but there must be at least one NUMA node, so returning NUMA node zero\n",
      "2022-05-14 19:43:37.232259: W tensorflow/stream_executor/platform/default/dso_loader.cc:64] Could not load dynamic library 'libcudart.so.11.0'; dlerror: libcudart.so.11.0: cannot open shared object file: No such file or directory\n",
      "2022-05-14 19:43:37.232308: W tensorflow/stream_executor/platform/default/dso_loader.cc:64] Could not load dynamic library 'libcublas.so.11'; dlerror: libcublas.so.11: cannot open shared object file: No such file or directory\n",
      "2022-05-14 19:43:37.232338: W tensorflow/stream_executor/platform/default/dso_loader.cc:64] Could not load dynamic library 'libcublasLt.so.11'; dlerror: libcublasLt.so.11: cannot open shared object file: No such file or directory\n",
      "2022-05-14 19:43:37.232367: W tensorflow/stream_executor/platform/default/dso_loader.cc:64] Could not load dynamic library 'libcufft.so.10'; dlerror: libcufft.so.10: cannot open shared object file: No such file or directory\n",
      "2022-05-14 19:43:37.232395: W tensorflow/stream_executor/platform/default/dso_loader.cc:64] Could not load dynamic library 'libcurand.so.10'; dlerror: libcurand.so.10: cannot open shared object file: No such file or directory\n",
      "2022-05-14 19:43:37.232422: W tensorflow/stream_executor/platform/default/dso_loader.cc:64] Could not load dynamic library 'libcusolver.so.11'; dlerror: libcusolver.so.11: cannot open shared object file: No such file or directory\n",
      "2022-05-14 19:43:37.232450: W tensorflow/stream_executor/platform/default/dso_loader.cc:64] Could not load dynamic library 'libcusparse.so.11'; dlerror: libcusparse.so.11: cannot open shared object file: No such file or directory\n",
      "2022-05-14 19:43:37.232478: W tensorflow/stream_executor/platform/default/dso_loader.cc:64] Could not load dynamic library 'libcudnn.so.8'; dlerror: libcudnn.so.8: cannot open shared object file: No such file or directory\n",
      "2022-05-14 19:43:37.232485: W tensorflow/core/common_runtime/gpu/gpu_device.cc:1850] Cannot dlopen some GPU libraries. Please make sure the missing libraries mentioned above are installed properly if you would like to use GPU. Follow the guide at https://www.tensorflow.org/install/gpu for how to download and setup the required libraries for your platform.\n",
      "Skipping registering GPU devices...\n",
      "2022-05-14 19:43:37.233052: I tensorflow/core/platform/cpu_feature_guard.cc:151] This TensorFlow binary is optimized with oneAPI Deep Neural Network Library (oneDNN) to use the following CPU instructions in performance-critical operations:  AVX2 AVX512F FMA\n",
      "To enable them in other operations, rebuild TensorFlow with the appropriate compiler flags.\n"
     ]
    },
    {
     "data": {
      "text/plain": "<tensorflow.python.keras.engine.functional.Functional at 0x7f4f10871c40>"
     },
     "execution_count": 8,
     "metadata": {},
     "output_type": "execute_result"
    }
   ],
   "source": [
    "model_input = Input(shape=(None,2))\n",
    "x = Dense(neuron_config[0], )(model_input)\n",
    "for neurons in neuron_config[1:]:\n",
    "    x = Dense(neurons)(x)\n",
    "model_output = Dense(1, name=\"output\")(x)\n",
    "model = Model(model_input, outputs=model_output, name=\"resnet_loc\")\n",
    "model.compile(optimizer=\"adam\", loss= \"mse\")\n",
    "model"
   ]
  },
  {
   "cell_type": "code",
   "execution_count": 9,
   "metadata": {},
   "outputs": [],
   "source": [
    "X=df[['x', 'y']]\n",
    "y=df['z']"
   ]
  },
  {
   "cell_type": "code",
   "execution_count": 10,
   "metadata": {},
   "outputs": [],
   "source": [
    "X_train, X_test, y_train, y_test = train_test_split(\n",
    "    X, y, test_size=0.33, random_state=42)"
   ]
  },
  {
   "cell_type": "code",
   "execution_count": 11,
   "metadata": {},
   "outputs": [
    {
     "data": {
      "text/plain": "              x          y\n81   -90.410202 -92.905983\n915   -6.278802  -8.817937\n1018   5.249034   2.332443\n380  -61.640906 -63.329719\n1029   6.209255   3.070627\n...         ...        ...\n1130  16.310331  11.707034\n1294  33.506032  28.283010\n860  -11.753098 -15.130288\n1459  49.577675  44.986581\n1126  16.250227  11.433844\n\n[1340 rows x 2 columns]",
      "text/html": "<div>\n<style scoped>\n    .dataframe tbody tr th:only-of-type {\n        vertical-align: middle;\n    }\n\n    .dataframe tbody tr th {\n        vertical-align: top;\n    }\n\n    .dataframe thead th {\n        text-align: right;\n    }\n</style>\n<table border=\"1\" class=\"dataframe\">\n  <thead>\n    <tr style=\"text-align: right;\">\n      <th></th>\n      <th>x</th>\n      <th>y</th>\n    </tr>\n  </thead>\n  <tbody>\n    <tr>\n      <th>81</th>\n      <td>-90.410202</td>\n      <td>-92.905983</td>\n    </tr>\n    <tr>\n      <th>915</th>\n      <td>-6.278802</td>\n      <td>-8.817937</td>\n    </tr>\n    <tr>\n      <th>1018</th>\n      <td>5.249034</td>\n      <td>2.332443</td>\n    </tr>\n    <tr>\n      <th>380</th>\n      <td>-61.640906</td>\n      <td>-63.329719</td>\n    </tr>\n    <tr>\n      <th>1029</th>\n      <td>6.209255</td>\n      <td>3.070627</td>\n    </tr>\n    <tr>\n      <th>...</th>\n      <td>...</td>\n      <td>...</td>\n    </tr>\n    <tr>\n      <th>1130</th>\n      <td>16.310331</td>\n      <td>11.707034</td>\n    </tr>\n    <tr>\n      <th>1294</th>\n      <td>33.506032</td>\n      <td>28.283010</td>\n    </tr>\n    <tr>\n      <th>860</th>\n      <td>-11.753098</td>\n      <td>-15.130288</td>\n    </tr>\n    <tr>\n      <th>1459</th>\n      <td>49.577675</td>\n      <td>44.986581</td>\n    </tr>\n    <tr>\n      <th>1126</th>\n      <td>16.250227</td>\n      <td>11.433844</td>\n    </tr>\n  </tbody>\n</table>\n<p>1340 rows × 2 columns</p>\n</div>"
     },
     "execution_count": 11,
     "metadata": {},
     "output_type": "execute_result"
    }
   ],
   "source": [
    "X_train"
   ]
  },
  {
   "cell_type": "code",
   "execution_count": 12,
   "metadata": {},
   "outputs": [
    {
     "name": "stdout",
     "output_type": "stream",
     "text": [
      "Epoch 1/10\n",
      "WARNING:tensorflow:Model was constructed with shape (None, None, 2) for input KerasTensor(type_spec=TensorSpec(shape=(None, None, 2), dtype=tf.float32, name='input_1'), name='input_1', description=\"created by layer 'input_1'\"), but it was called on an input with incompatible shape (None, 2).\n",
      "WARNING:tensorflow:Model was constructed with shape (None, None, 2) for input KerasTensor(type_spec=TensorSpec(shape=(None, None, 2), dtype=tf.float32, name='input_1'), name='input_1', description=\"created by layer 'input_1'\"), but it was called on an input with incompatible shape (None, 2).\n",
      "42/42 [==============================] - 0s 520us/step - loss: 1303390592.0000\n",
      "Epoch 2/10\n",
      "42/42 [==============================] - 0s 548us/step - loss: 1302792448.0000\n",
      "Epoch 3/10\n",
      "42/42 [==============================] - 0s 493us/step - loss: 1301937408.0000\n",
      "Epoch 4/10\n",
      "42/42 [==============================] - 0s 508us/step - loss: 1300773248.0000\n",
      "Epoch 5/10\n",
      "42/42 [==============================] - 0s 493us/step - loss: 1299207424.0000\n",
      "Epoch 6/10\n",
      "42/42 [==============================] - 0s 507us/step - loss: 1298440960.0000\n",
      "Epoch 7/10\n",
      "42/42 [==============================] - 0s 521us/step - loss: 1295651456.0000\n",
      "Epoch 8/10\n",
      "42/42 [==============================] - 0s 560us/step - loss: 1293036800.0000\n",
      "Epoch 9/10\n",
      "42/42 [==============================] - 0s 506us/step - loss: 1290054912.0000\n",
      "Epoch 10/10\n",
      "42/42 [==============================] - 0s 483us/step - loss: 1285267840.0000\n"
     ]
    },
    {
     "data": {
      "text/plain": "<tensorflow.python.keras.callbacks.History at 0x7f4ea7166f10>"
     },
     "execution_count": 12,
     "metadata": {},
     "output_type": "execute_result"
    }
   ],
   "source": [
    "model.fit(X_train, y_train, batch_size=32, epochs=10)\n"
   ]
  },
  {
   "cell_type": "code",
   "execution_count": 13,
   "metadata": {},
   "outputs": [
    {
     "name": "stdout",
     "output_type": "stream",
     "text": [
      "WARNING:tensorflow:Model was constructed with shape (None, None, 2) for input KerasTensor(type_spec=TensorSpec(shape=(None, None, 2), dtype=tf.float32, name='input_1'), name='input_1', description=\"created by layer 'input_1'\"), but it was called on an input with incompatible shape (None, 2).\n"
     ]
    },
    {
     "data": {
      "text/plain": "array([[-2840.2146  ],\n       [ 2821.3628  ],\n       [ -784.9285  ],\n       [  734.6988  ],\n       [ -602.5335  ],\n       [ -515.27527 ],\n       [  646.52295 ],\n       [-2483.6855  ],\n       [ 3866.317   ],\n       [ -769.63385 ],\n       [ 3889.1748  ],\n       [ -598.9744  ],\n       [   51.68607 ],\n       [ 1926.3922  ],\n       [ 2743.3677  ],\n       [ 3154.6157  ],\n       [ 1360.8965  ],\n       [ 3673.3682  ],\n       [-2096.4734  ],\n       [-2823.9417  ],\n       [ 1603.7621  ],\n       [-2156.3545  ],\n       [-3433.491   ],\n       [  116.97162 ],\n       [-3136.2935  ],\n       [ 3814.6555  ],\n       [ -228.02533 ],\n       [  507.63425 ],\n       [ 1175.4307  ],\n       [ 3967.2585  ],\n       [ 1765.9261  ],\n       [  619.81683 ],\n       [ 1984.9194  ],\n       [  729.2395  ],\n       [  139.17287 ],\n       [ 2491.675   ],\n       [-1974.2007  ],\n       [ -599.7393  ],\n       [  141.82944 ],\n       [ 3242.6096  ],\n       [ 3671.3198  ],\n       [-3140.3467  ],\n       [ 3240.6213  ],\n       [ 1943.7655  ],\n       [-1780.7014  ],\n       [ 1063.4995  ],\n       [ 2151.3525  ],\n       [  811.07916 ],\n       [ 3863.6172  ],\n       [-1969.8215  ],\n       [-1594.6321  ],\n       [ 3232.3555  ],\n       [-1257.814   ],\n       [ 3337.7078  ],\n       [  725.34296 ],\n       [-2561.5708  ],\n       [ -427.43588 ],\n       [-2340.3923  ],\n       [ -247.71855 ],\n       [ 2787.9429  ],\n       [-1314.144   ],\n       [ 1596.4797  ],\n       [-2027.5261  ],\n       [   99.68864 ],\n       [-3457.1833  ],\n       [-2806.3237  ],\n       [  403.2894  ],\n       [-1424.3961  ],\n       [ 3784.038   ],\n       [-1387.1738  ],\n       [-1260.0916  ],\n       [ 2720.2534  ],\n       [ -998.48663 ],\n       [  158.41277 ],\n       [ 1356.7041  ],\n       [ 2918.233   ],\n       [-2035.3335  ],\n       [ 1175.7251  ],\n       [ 2762.0542  ],\n       [-2733.867   ],\n       [ 3856.6208  ],\n       [  970.1946  ],\n       [-1361.9979  ],\n       [-1682.0564  ],\n       [-2307.2993  ],\n       [-1330.6189  ],\n       [-2644.3125  ],\n       [ 2286.5435  ],\n       [ 3144.4067  ],\n       [-2096.15    ],\n       [-1705.8184  ],\n       [-2478.6584  ],\n       [ 3365.7039  ],\n       [ 3063.4204  ],\n       [-2912.1958  ],\n       [-2799.8857  ],\n       [ 1708.5667  ],\n       [ -411.72287 ],\n       [-1400.1934  ],\n       [-3136.1553  ],\n       [  704.309   ],\n       [  383.74503 ],\n       [ 2564.598   ],\n       [ -881.1506  ],\n       [ 3269.0256  ],\n       [  883.4736  ],\n       [ 1813.6908  ],\n       [ 3235.6006  ],\n       [ 1871.3279  ],\n       [ 2039.1978  ],\n       [ 1303.613   ],\n       [-1132.32    ],\n       [  185.44662 ],\n       [-2660.2305  ],\n       [ 1335.3716  ],\n       [ 2730.771   ],\n       [   83.68972 ],\n       [  465.20444 ],\n       [ 2822.9258  ],\n       [-1962.807   ],\n       [-2767.851   ],\n       [  229.3995  ],\n       [   66.27833 ],\n       [ 2233.1392  ],\n       [ 2668.2676  ],\n       [-1652.9601  ],\n       [ 2403.866   ],\n       [  822.39    ],\n       [ -276.99393 ],\n       [ 2761.7805  ],\n       [-2942.3608  ],\n       [-2860.4927  ],\n       [ 1361.7966  ],\n       [ 2046.937   ],\n       [ 1125.2891  ],\n       [ -374.75424 ],\n       [-3434.8604  ],\n       [-3013.6755  ],\n       [-2356.05    ],\n       [-1657.2188  ],\n       [ -714.6104  ],\n       [ 3038.394   ],\n       [-2182.7734  ],\n       [  952.2924  ],\n       [-1779.0056  ],\n       [ 2047.4839  ],\n       [ 1692.261   ],\n       [ -485.69458 ],\n       [ 3309.3525  ],\n       [ 3689.7705  ],\n       [-2358.7417  ],\n       [  580.0319  ],\n       [ 1828.7649  ],\n       [ -219.83391 ],\n       [ 3031.145   ],\n       [ 3628.5571  ],\n       [ 2034.5293  ],\n       [-2192.5771  ],\n       [ 1927.7463  ],\n       [-2095.8357  ],\n       [ 1591.2637  ],\n       [ 1036.7722  ],\n       [ 3784.9692  ],\n       [ -171.04317 ],\n       [-3297.43    ],\n       [-1287.6199  ],\n       [-2479.313   ],\n       [ -416.5749  ],\n       [ 3333.8762  ],\n       [-2620.3633  ],\n       [   44.41712 ],\n       [ 1576.9619  ],\n       [-3224.0205  ],\n       [-2815.1506  ],\n       [ 2610.8735  ],\n       [ -772.5582  ],\n       [ 1181.9349  ],\n       [ -796.41034 ],\n       [  919.6689  ],\n       [-2099.0444  ],\n       [ -545.59845 ],\n       [ 1173.1147  ],\n       [-2730.0178  ],\n       [ -266.59454 ],\n       [ 1121.1996  ],\n       [ 1420.5164  ],\n       [-3471.1323  ],\n       [-2132.8203  ],\n       [ -277.22708 ],\n       [ -378.88937 ],\n       [ 1890.9844  ],\n       [ 3160.3347  ],\n       [ -976.8555  ],\n       [ 3327.1187  ],\n       [ 3940.7483  ],\n       [ 2403.897   ],\n       [   84.77276 ],\n       [  968.38666 ],\n       [ 1545.7693  ],\n       [-1670.2755  ],\n       [-2856.2178  ],\n       [ 2060.2832  ],\n       [ 3506.5986  ],\n       [ 1398.044   ],\n       [ 2607.702   ],\n       [ 3270.2275  ],\n       [-1320.4857  ],\n       [ -781.68335 ],\n       [  156.40422 ],\n       [ 3976.0833  ],\n       [-2596.899   ],\n       [ 3863.47    ],\n       [ 3105.627   ],\n       [ 3465.3684  ],\n       [ 1473.2854  ],\n       [-2716.6826  ],\n       [  -70.395744],\n       [ 2821.9023  ],\n       [ 2601.5806  ],\n       [ -453.52463 ],\n       [  659.7992  ],\n       [ 3451.6865  ],\n       [ 1947.447   ],\n       [  -52.35953 ],\n       [-2717.7993  ],\n       [-3146.3667  ],\n       [ 2545.587   ],\n       [ 3814.3335  ],\n       [-2106.3462  ],\n       [ 2666.1257  ],\n       [-3139.2263  ],\n       [ 3330.0513  ],\n       [-2201.795   ],\n       [-1389.5378  ],\n       [-2651.4883  ],\n       [ 2826.7375  ],\n       [  288.51645 ],\n       [  813.3339  ],\n       [ -836.3898  ],\n       [ 2042.3433  ],\n       [ 1362.709   ],\n       [-1643.9884  ],\n       [ 2041.0507  ],\n       [  733.5535  ],\n       [-1000.7392  ],\n       [ 3751.7935  ],\n       [ 1055.8008  ],\n       [-3137.9604  ],\n       [ 1120.394   ],\n       [ -702.93427 ],\n       [  338.6729  ],\n       [ 3037.2266  ],\n       [   82.63225 ],\n       [ 2286.65    ],\n       [-1157.0117  ],\n       [  141.46405 ],\n       [ 1999.2855  ],\n       [ 1823.097   ],\n       [-2937.526   ],\n       [ -502.10312 ],\n       [ 3886.588   ],\n       [-3048.3875  ],\n       [ 3960.467   ],\n       [-1605.8777  ],\n       [  269.77402 ],\n       [-1767.75    ],\n       [ 2839.6858  ],\n       [ 3521.003   ],\n       [ 3413.3374  ],\n       [  157.02122 ],\n       [ -849.74976 ],\n       [-3324.0554  ],\n       [ 2228.2092  ],\n       [-2039.4181  ],\n       [-3326.6875  ],\n       [-3316.9253  ],\n       [ 1879.4995  ],\n       [ 2542.7903  ],\n       [-1398.3999  ],\n       [ 3343.8738  ],\n       [-3140.358   ],\n       [-1300.5917  ],\n       [ 1756.9312  ],\n       [ -932.40295 ],\n       [ -657.4157  ],\n       [ 3866.9229  ],\n       [ 3059.3833  ],\n       [-2391.1938  ],\n       [ 3877.4753  ],\n       [ 3534.0747  ],\n       [ -516.4314  ],\n       [-1905.4207  ],\n       [-1180.7124  ],\n       [-1975.3334  ],\n       [ 1939.0122  ],\n       [ 2948.934   ],\n       [ 3911.7407  ],\n       [-2404.897   ],\n       [-2777.5347  ],\n       [ 2568.4346  ],\n       [ 1944.7345  ],\n       [ 3887.917   ],\n       [-3095.4746  ],\n       [-1098.763   ],\n       [ 1268.9619  ],\n       [-3112.6226  ],\n       [ -181.7336  ],\n       [ -766.91644 ],\n       [  657.8756  ],\n       [ 3961.9214  ],\n       [   83.19345 ],\n       [-1985.002   ],\n       [ -407.8682  ],\n       [  457.63077 ],\n       [  117.39168 ],\n       [ 2130.3176  ],\n       [-1666.2712  ],\n       [-1780.6208  ],\n       [-2712.9023  ],\n       [-1791.6401  ],\n       [ 3918.4695  ],\n       [-2269.905   ],\n       [ 3508.189   ],\n       [ 3041.8599  ],\n       [  394.6592  ],\n       [ 2032.9939  ],\n       [-3141.2124  ],\n       [ 1900.8923  ],\n       [-1976.0662  ],\n       [ 1343.8076  ],\n       [ 2518.0337  ],\n       [ 1927.6746  ],\n       [-1474.05    ],\n       [ 2060.2246  ],\n       [ 2823.7043  ],\n       [-2510.3047  ],\n       [ 2763.4785  ],\n       [ 3474.642   ],\n       [   54.704136],\n       [-2573.781   ],\n       [-1156.8413  ],\n       [ 3062.4702  ],\n       [-2981.6606  ],\n       [ 1042.0133  ],\n       [ 2037.7288  ],\n       [-1968.0364  ],\n       [ 2831.9065  ],\n       [-3137.1306  ],\n       [-1424.1965  ],\n       [  439.6517  ],\n       [ 3507.4824  ],\n       [ 2253.8413  ],\n       [-1089.453   ],\n       [-1977.0948  ],\n       [ 3683.9595  ],\n       [ 1929.8182  ],\n       [-2658.0977  ],\n       [-2565.2485  ],\n       [ -918.1862  ],\n       [ -261.61987 ],\n       [ 2258.331   ],\n       [ 2868.5786  ],\n       [ 1178.5814  ],\n       [ 3453.6855  ],\n       [ 1747.5879  ],\n       [ 2382.632   ],\n       [-2392.0298  ],\n       [ 2924.6313  ],\n       [ -269.30502 ],\n       [ 3188.707   ],\n       [-1647.5735  ],\n       [-2683.5881  ],\n       [ 3865.1921  ],\n       [-2521.1597  ],\n       [-1902.4789  ],\n       [-1758.173   ],\n       [ 2285.4238  ],\n       [-2565.9727  ],\n       [-3055.1792  ],\n       [-1243.7988  ],\n       [-1258.9857  ],\n       [  829.15247 ],\n       [ 2588.268   ],\n       [-2193.5002  ],\n       [-1258.4618  ],\n       [ 1332.9664  ],\n       [ 2087.0396  ],\n       [-1180.3086  ],\n       [ 1862.8134  ],\n       [-1576.853   ],\n       [-2646.047   ],\n       [-2132.6738  ],\n       [ 2464.9805  ],\n       [ 1371.6263  ],\n       [ 2041.9138  ],\n       [  491.14368 ],\n       [ -582.68567 ],\n       [-2543.034   ],\n       [ 3190.2412  ],\n       [ 2042.9004  ],\n       [  471.24918 ],\n       [ 3273.9226  ],\n       [ 1073.8796  ],\n       [ 1549.1658  ],\n       [ 2587.3984  ],\n       [  114.03611 ],\n       [-3475.9053  ],\n       [ 2761.1357  ],\n       [  283.11996 ],\n       [ -411.13965 ],\n       [ 1932.6493  ],\n       [ 1377.8135  ],\n       [-2598.1748  ],\n       [  625.23627 ],\n       [ 3868.3748  ],\n       [-1061.1588  ],\n       [ 3228.0564  ],\n       [ 3925.637   ],\n       [ 3421.7817  ],\n       [-2662.4746  ],\n       [ 1710.4705  ],\n       [ 2867.7407  ],\n       [ -838.91016 ],\n       [ 1941.6487  ],\n       [ -989.75653 ],\n       [-2648.6846  ],\n       [ -725.6005  ],\n       [   76.07347 ],\n       [  324.96036 ],\n       [ -765.6167  ],\n       [ 2565.1262  ],\n       [-1728.9543  ],\n       [ -606.40466 ],\n       [ 1940.6895  ],\n       [-3280.9277  ],\n       [-3423.3105  ],\n       [  -35.590267],\n       [  410.94656 ],\n       [ 2659.9956  ],\n       [-1424.2927  ],\n       [ 2526.5825  ],\n       [ 3456.4578  ],\n       [-1195.4656  ],\n       [ 1859.1365  ],\n       [-1380.7886  ],\n       [ 1948.4242  ],\n       [  403.4332  ],\n       [-1181.7893  ],\n       [ 1464.3318  ],\n       [ -482.79507 ],\n       [ 3627.858   ],\n       [ -841.04315 ],\n       [ 4060.693   ],\n       [ -343.2172  ],\n       [-2862.0134  ],\n       [-2027.8496  ],\n       [ 2842.9124  ],\n       [-2611.3284  ],\n       [-1596.4789  ],\n       [ 2263.5605  ],\n       [ 3185.7979  ],\n       [ 2737.4226  ],\n       [ 1362.1641  ],\n       [  289.81015 ],\n       [ 2495.5703  ],\n       [ 3154.893   ],\n       [ 3472.9165  ],\n       [  639.8658  ],\n       [ 3243.8438  ],\n       [  647.0531  ],\n       [ 2479.3901  ],\n       [ 1944.3743  ],\n       [ 1104.6152  ],\n       [ -514.1779  ],\n       [-2203.373   ],\n       [ 2243.0908  ],\n       [ 1567.2275  ],\n       [ 2601.783   ],\n       [ 3156.4438  ],\n       [-1323.3137  ],\n       [-2771.625   ],\n       [-1260.7799  ],\n       [ 3240.1133  ],\n       [ 2602.6182  ],\n       [ -984.382   ],\n       [ -692.6319  ],\n       [ 1412.98    ],\n       [ 3025.3906  ],\n       [  670.1994  ],\n       [ 2733.5347  ],\n       [-1767.2592  ],\n       [ 2582.0393  ],\n       [-2864.3687  ],\n       [ 2041.4387  ],\n       [ 1363.1494  ],\n       [ 1326.1714  ],\n       [ -848.1127  ],\n       [ 2619.2705  ],\n       [-1981.6334  ],\n       [ 1533.4943  ],\n       [-2527.1226  ],\n       [ 2028.5845  ],\n       [  658.4508  ],\n       [ -973.76    ],\n       [-1964.9763  ],\n       [-3146.0498  ],\n       [-1355.8359  ],\n       [ 3477.463   ],\n       [-3161.2993  ],\n       [ -180.19357 ],\n       [ 3508.1553  ],\n       [ 3106.1167  ],\n       [ 2020.3264  ],\n       [-1255.6852  ],\n       [-2874.5664  ],\n       [-2099.16    ],\n       [  986.00116 ],\n       [ 3152.9739  ],\n       [-1652.3416  ],\n       [  269.38266 ],\n       [-2562.9348  ],\n       [ 2754.1294  ],\n       [-2174.4668  ],\n       [ 1394.66    ],\n       [ 1379.5272  ],\n       [ 1270.3208  ],\n       [ 2090.3416  ],\n       [ 2862.9824  ],\n       [  984.61237 ],\n       [ -479.30942 ],\n       [  160.16966 ],\n       [-3131.3953  ],\n       [ 3977.564   ],\n       [ 1426.1638  ],\n       [  758.22845 ],\n       [-3435.7393  ],\n       [-1791.8481  ],\n       [  748.371   ],\n       [ 2403.0933  ],\n       [-3424.9473  ],\n       [ 3417.1309  ],\n       [ -275.91553 ],\n       [  156.64105 ],\n       [  -18.36415 ],\n       [ -910.60034 ],\n       [  349.59177 ],\n       [ 1378.6798  ],\n       [-2609.0415  ],\n       [-3028.874   ],\n       [-2730.8647  ],\n       [ 2004.5928  ],\n       [ 3921.641   ],\n       [ 3157.524   ],\n       [   79.23425 ],\n       [ 3819.6667  ],\n       [ -409.25488 ],\n       [-2407.8545  ],\n       [-2788.1948  ],\n       [ 3792.894   ],\n       [-1984.791   ],\n       [ 2215.871   ],\n       [-3432.8462  ],\n       [  835.5846  ],\n       [ 1340.5083  ],\n       [ 1810.2844  ],\n       [   84.723   ],\n       [-3137.565   ],\n       [ 1122.9124  ],\n       [  233.66544 ],\n       [ 3870.6975  ],\n       [ -562.6215  ],\n       [ -501.29373 ],\n       [ -784.9964  ],\n       [-1257.6152  ],\n       [ 2265.0034  ],\n       [  147.08247 ],\n       [ 2152.1826  ],\n       [ -413.17203 ],\n       [-2844.357   ],\n       [-3472.1113  ],\n       [-1329.0697  ],\n       [-2843.1418  ],\n       [-1261.273   ],\n       [ 3000.7856  ],\n       [  512.62103 ],\n       [ 2641.5781  ],\n       [ -795.1295  ],\n       [-2100.5881  ],\n       [ 3025.2144  ],\n       [ 3326.884   ],\n       [-2845.7236  ],\n       [ 1424.7236  ],\n       [-3158.2974  ],\n       [ -952.299   ],\n       [-2653.8452  ],\n       [ 3574.0566  ],\n       [-1677.8376  ],\n       [-3260.816   ],\n       [  670.2238  ],\n       [  626.76666 ],\n       [ 1025.2527  ],\n       [ 1950.5647  ],\n       [ 2034.7676  ],\n       [ -403.5047  ],\n       [ -844.2372  ],\n       [ -817.3357  ],\n       [ -175.7599  ],\n       [-1251.237   ],\n       [ 3134.1294  ],\n       [-1966.0586  ],\n       [  161.23991 ],\n       [ 1929.9056  ],\n       [  647.8536  ],\n       [-1268.7578  ],\n       [-2107.8926  ],\n       [-1831.2681  ],\n       [  205.22336 ],\n       [ -407.997   ],\n       [ 1123.0153  ],\n       [  733.8614  ],\n       [-2236.7764  ],\n       [ -280.52768 ],\n       [ 1301.5323  ],\n       [ 1886.0447  ],\n       [-3454.7588  ],\n       [-1756.0154  ],\n       [-1147.3821  ],\n       [  306.40402 ],\n       [ 2231.6445  ],\n       [ -761.0555  ],\n       [ 3143.3726  ],\n       [-2804.6362  ],\n       [ 2816.4478  ],\n       [   77.64853 ],\n       [ 3270.9004  ],\n       [ 2040.0912  ],\n       [-2841.0085  ],\n       [-2715.7349  ],\n       [ 3404.9724  ],\n       [ -974.26245 ],\n       [-1749.7822  ],\n       [ 3867.211   ],\n       [ 1758.3713  ],\n       [-3306.525   ],\n       [-2840.976   ],\n       [-2731.9111  ],\n       [ 2787.946   ],\n       [ 2169.2778  ],\n       [ -174.87057 ],\n       [   45.33585 ],\n       [-2060.705   ],\n       [ -326.7056  ],\n       [ -136.03001 ],\n       [   40.85542 ],\n       [-1905.5222  ],\n       [ 3719.7422  ],\n       [ -472.91556 ],\n       [-3452.3813  ],\n       [ 2089.4834  ],\n       [ 2133.0881  ]], dtype=float32)"
     },
     "execution_count": 13,
     "metadata": {},
     "output_type": "execute_result"
    }
   ],
   "source": [
    "model.predict(X_test)"
   ]
  },
  {
   "cell_type": "code",
   "execution_count": 14,
   "metadata": {},
   "outputs": [
    {
     "data": {
      "text/plain": "1860    58495.183501\n353     33966.263351\n1333     9735.155726\n905       590.069883\n1289     7451.959170\n            ...     \n118     62832.060174\n1249     5669.266897\n1993    79177.213185\n522     18662.675971\n513     19597.233812\nName: z, Length: 660, dtype: float64"
     },
     "execution_count": 14,
     "metadata": {},
     "output_type": "execute_result"
    }
   ],
   "source": [
    "y_test"
   ]
  },
  {
   "cell_type": "code",
   "execution_count": 14,
   "metadata": {},
   "outputs": [],
   "source": []
  }
 ],
 "metadata": {
  "kernelspec": {
   "display_name": "Python 3",
   "language": "python",
   "name": "python3"
  },
  "language_info": {
   "codemirror_mode": {
    "name": "ipython",
    "version": 3
   },
   "file_extension": ".py",
   "mimetype": "text/x-python",
   "name": "python",
   "nbconvert_exporter": "python",
   "pygments_lexer": "ipython3",
   "version": "3.8.5"
  }
 },
 "nbformat": 4,
 "nbformat_minor": 4
}